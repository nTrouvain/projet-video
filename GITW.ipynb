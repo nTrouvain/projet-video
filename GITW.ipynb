{
 "cells": [
  {
   "cell_type": "code",
   "execution_count": 155,
   "metadata": {},
   "outputs": [],
   "source": [
    "import os\n",
    "import math\n",
    "\n",
    "import numpy as np\n",
    "import pandas as pd\n",
    "import tensorflow as tf\n",
    "from tensorflow import keras\n",
    "from sklearn.model_selection import train_test_split\n",
    "from PIL import Image"
   ]
  },
  {
   "cell_type": "code",
   "execution_count": 127,
   "metadata": {},
   "outputs": [
    {
     "data": {
      "text/plain": [
       "True"
      ]
     },
     "execution_count": 127,
     "metadata": {},
     "output_type": "execute_result"
    }
   ],
   "source": [
    "tf.test.is_gpu_available()"
   ]
  },
  {
   "cell_type": "code",
   "execution_count": 128,
   "metadata": {},
   "outputs": [],
   "source": [
    "gitw_path = \"/espace/GITW\""
   ]
  },
  {
   "cell_type": "code",
   "execution_count": 129,
   "metadata": {},
   "outputs": [],
   "source": [
    "classes = os.listdir(gitw_path)"
   ]
  },
  {
   "cell_type": "code",
   "execution_count": 130,
   "metadata": {},
   "outputs": [],
   "source": [
    "directories = []\n",
    "labels = []\n",
    "for d_name in os.listdir(gitw_path):\n",
    "    for sub_name in os.listdir(os.path.join(gitw_path, d_name)):\n",
    "        directories.append(os.path.join(d_name, sub_name, \"patches\"))\n",
    "        labels.append(int(classes.index(d_name)))"
   ]
  },
  {
   "cell_type": "code",
   "execution_count": 131,
   "metadata": {},
   "outputs": [],
   "source": [
    "selected_indexes = np.random.choice([0, 1], p=[0.8, 0.2], size=(len(directories),))\n",
    "train_dir, train_labels = list(np.array(directories)[selected_indexes == 0]), list(np.array(labels)[selected_indexes == 0])\n",
    "test_dir, test_labels = list(np.array(directories)[selected_indexes == 1]), list(np.array(labels)[selected_indexes == 1])"
   ]
  },
  {
   "cell_type": "code",
   "execution_count": 137,
   "metadata": {},
   "outputs": [],
   "source": [
    "pd.DataFrame({\"directories\": train_dir, \"labels\": train_labels}).to_csv(\"traindata.csv\", index=False)\n",
    "pd.DataFrame({\"directories\": test_dir, \"labels\": test_labels}).to_csv(\"testdata.csv\", index=False)"
   ]
  },
  {
   "cell_type": "code",
   "execution_count": 163,
   "metadata": {},
   "outputs": [],
   "source": [
    "class GITWDataset(keras.utils.Sequence):\n",
    "    \n",
    "    def __init__(self, path, directories, labels, batch_size=32, max_frame=10):\n",
    "        self.X = directories\n",
    "        self.Y = keras.utils.to_categorical(labels)\n",
    "        self.batch_size = batch_size\n",
    "        self.max_frame = max_frame\n",
    "        self.path = path\n",
    "        \n",
    "    def __len__(self):\n",
    "        return math.ceil(len(self.X) / self.batch_size)\n",
    "    \n",
    "    def __getitem__(self, idx):\n",
    "        files_x = self.X[idx*self.batch_size:(idx+1)*self.batch_size]\n",
    "        batch_y = self.Y[idx*self.batch_size:(idx+1)*self.batch_size]\n",
    "        batch_x = []\n",
    "        for file in files_x:\n",
    "            frames_path = os.path.join(self.path, file)\n",
    "            frames = [np.array(Image.open(os.path.join(frames_path, frame)).convert(\"RGB\").getdata()).reshape((227,227,3)) / 255 for frame in os.listdir(frames_path) if os.path.isfile(os.path.join(frames_path, frame))]\n",
    "            frames = np.stack(frames)\n",
    "            batch_x.append(frames[:self.max_frame])\n",
    "        return np.stack(batch_x), batch_y"
   ]
  },
  {
   "cell_type": "code",
   "execution_count": 164,
   "metadata": {},
   "outputs": [],
   "source": [
    "train_data = pd.read_csv(\"traindata.csv\")\n",
    "test_data = pd.read_csv(\"testdata.csv\")\n",
    "\n",
    "trainset = GITWDataset(gitw_path, train_data.directories, train_data.labels)\n",
    "testset = GITWDataset(gitw_path, test_data.directories, test_data.labels)"
   ]
  },
  {
   "cell_type": "code",
   "execution_count": 165,
   "metadata": {},
   "outputs": [],
   "source": [
    "m = keras.models.Sequential([\n",
    "    keras.layers.Flatten(input_shape=(10, 227, 227, 3)),\n",
    "    keras.layers.Dense(16)\n",
    "])\n",
    "m.compile(loss=\"categorical_crossentropy\", optimizer=\"sgd\", metrics=[\"accuracy\"])"
   ]
  },
  {
   "cell_type": "code",
   "execution_count": null,
   "metadata": {},
   "outputs": [
    {
     "name": "stdout",
     "output_type": "stream",
     "text": [
      "Epoch 1/1\n"
     ]
    },
    {
     "name": "stderr",
     "output_type": "stream",
     "text": [
      "Exception in thread Thread-9:\n",
      "Traceback (most recent call last):\n",
      "  File \"/usr/lib/python3.5/threading.py\", line 914, in _bootstrap_inner\n",
      "    self.run()\n",
      "  File \"/usr/lib/python3.5/threading.py\", line 862, in run\n",
      "    self._target(*self._args, **self._kwargs)\n",
      "  File \"/autofs/unityaccount/ens/DeepLearning/python3/tensorflow/lib/python3.5/site-packages/tensorflow/python/keras/_impl/keras/utils/data_utils.py\", line 511, in _run\n",
      "    self.sequence.on_epoch_end()\n",
      "  File \"/autofs/unityaccount/ens/DeepLearning/python3/tensorflow/lib/python3.5/site-packages/tensorflow/python/keras/_impl/keras/utils/data_utils.py\", line 375, in on_epoch_end\n",
      "    raise NotImplementedError\n",
      "NotImplementedError\n",
      "\n"
     ]
    }
   ],
   "source": [
    "m.fit_generator(trainset, len(trainset)*32, epochs=1)"
   ]
  },
  {
   "cell_type": "code",
   "execution_count": null,
   "metadata": {},
   "outputs": [],
   "source": []
  }
 ],
 "metadata": {
  "kernelspec": {
   "display_name": "Python 3",
   "language": "python",
   "name": "python3"
  },
  "language_info": {
   "codemirror_mode": {
    "name": "ipython",
    "version": 3
   },
   "file_extension": ".py",
   "mimetype": "text/x-python",
   "name": "python",
   "nbconvert_exporter": "python",
   "pygments_lexer": "ipython3",
   "version": "3.5.3"
  }
 },
 "nbformat": 4,
 "nbformat_minor": 4
}
