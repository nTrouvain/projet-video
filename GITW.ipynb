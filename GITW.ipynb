{
 "cells": [
  {
   "cell_type": "code",
   "execution_count": 1,
   "metadata": {},
   "outputs": [],
   "source": [
    "import os\n",
    "import math\n",
    "from os import path\n",
    "\n",
    "import numpy as np\n",
    "import pandas as pd\n",
    "import tensorflow as tf\n",
    "from tensorflow import keras\n",
    "from tensorflow.keras import models\n",
    "from tensorflow.keras import layers\n",
    "from tensorflow.keras import optimizers\n",
    "from tensorflow.keras.callbacks import TensorBoard, ReduceLROnPlateau\n",
    "from tensorflow.keras.applications.resnet import ResNet50\n",
    "from sklearn.model_selection import train_test_split\n",
    "from PIL import Image\n",
    "\n",
    "batch_size = 16"
   ]
  },
  {
   "cell_type": "code",
   "execution_count": 2,
   "metadata": {},
   "outputs": [
    {
     "data": {
      "text/plain": [
       "True"
      ]
     },
     "execution_count": 2,
     "metadata": {},
     "output_type": "execute_result"
    }
   ],
   "source": [
    "tf.test.is_gpu_available()"
   ]
  },
  {
   "cell_type": "code",
   "execution_count": 3,
   "metadata": {},
   "outputs": [
    {
     "data": {
      "text/plain": [
       "['Background',\n",
       " 'Bowl',\n",
       " 'CanOfCocaCola',\n",
       " 'FryingPan',\n",
       " 'Glass',\n",
       " 'Jam',\n",
       " 'Lid',\n",
       " 'MilkBottle',\n",
       " 'Mug',\n",
       " 'OilBottle',\n",
       " 'Plate',\n",
       " 'Rice',\n",
       " 'SaucePan',\n",
       " 'Sponge',\n",
       " 'Sugar',\n",
       " 'VinegarBottle',\n",
       " 'WashLiquid']"
      ]
     },
     "execution_count": 3,
     "metadata": {},
     "output_type": "execute_result"
    }
   ],
   "source": [
    "gitw_path = path.join(\"data\", \"GITW_clean\")\n",
    "classes = [d for d in os.listdir(gitw_path) if path.isdir(path.join(gitw_path, d))]\n",
    "classes"
   ]
  },
  {
   "cell_type": "code",
   "execution_count": 4,
   "metadata": {},
   "outputs": [],
   "source": [
    "directories = []\n",
    "files = {\n",
    "    \"file\": [],\n",
    "    \"label\": [],\n",
    "    \"frame\": []\n",
    "}\n",
    "\n",
    "for c_name in classes:\n",
    "    for img in os.listdir(path.join(gitw_path, c_name)):\n",
    "        if path.isfile(path.join(gitw_path, c_name, img)):\n",
    "            files[\"file\"].append(path.join(c_name, img))\n",
    "            files[\"label\"].append(classes.index(c_name))\n",
    "            files[\"frame\"].append(int(img.split(\"_\")[1]))"
   ]
  },
  {
   "cell_type": "code",
   "execution_count": 5,
   "metadata": {},
   "outputs": [
    {
     "data": {
      "text/html": [
       "<div>\n",
       "<style scoped>\n",
       "    .dataframe tbody tr th:only-of-type {\n",
       "        vertical-align: middle;\n",
       "    }\n",
       "\n",
       "    .dataframe tbody tr th {\n",
       "        vertical-align: top;\n",
       "    }\n",
       "\n",
       "    .dataframe thead th {\n",
       "        text-align: right;\n",
       "    }\n",
       "</style>\n",
       "<table border=\"1\" class=\"dataframe\">\n",
       "  <thead>\n",
       "    <tr style=\"text-align: right;\">\n",
       "      <th></th>\n",
       "      <th>file</th>\n",
       "      <th>label</th>\n",
       "      <th>frame</th>\n",
       "    </tr>\n",
       "  </thead>\n",
       "  <tbody>\n",
       "    <tr>\n",
       "      <td>0</td>\n",
       "      <td>Background\\Frame_0320_bg.png</td>\n",
       "      <td>0</td>\n",
       "      <td>320</td>\n",
       "    </tr>\n",
       "    <tr>\n",
       "      <td>1</td>\n",
       "      <td>Background\\Frame_0360_bg.png</td>\n",
       "      <td>0</td>\n",
       "      <td>360</td>\n",
       "    </tr>\n",
       "    <tr>\n",
       "      <td>2</td>\n",
       "      <td>Background\\Frame_0400_bg.png</td>\n",
       "      <td>0</td>\n",
       "      <td>400</td>\n",
       "    </tr>\n",
       "    <tr>\n",
       "      <td>3</td>\n",
       "      <td>Background\\Frame_0440_bg.png</td>\n",
       "      <td>0</td>\n",
       "      <td>440</td>\n",
       "    </tr>\n",
       "    <tr>\n",
       "      <td>4</td>\n",
       "      <td>Background\\Frame_0480_bg.png</td>\n",
       "      <td>0</td>\n",
       "      <td>480</td>\n",
       "    </tr>\n",
       "  </tbody>\n",
       "</table>\n",
       "</div>"
      ],
      "text/plain": [
       "                           file  label  frame\n",
       "0  Background\\Frame_0320_bg.png      0    320\n",
       "1  Background\\Frame_0360_bg.png      0    360\n",
       "2  Background\\Frame_0400_bg.png      0    400\n",
       "3  Background\\Frame_0440_bg.png      0    440\n",
       "4  Background\\Frame_0480_bg.png      0    480"
      ]
     },
     "execution_count": 5,
     "metadata": {},
     "output_type": "execute_result"
    }
   ],
   "source": [
    "files = pd.DataFrame(files).sort_values(by=[\"label\", \"frame\"]).reset_index(drop=True)\n",
    "files.head()"
   ]
  },
  {
   "cell_type": "code",
   "execution_count": 6,
   "metadata": {},
   "outputs": [
    {
     "data": {
      "text/plain": [
       "(4451, 786)"
      ]
     },
     "execution_count": 6,
     "metadata": {},
     "output_type": "execute_result"
    }
   ],
   "source": [
    "x_train, x_test = train_test_split(files.index, test_size=0.15)\n",
    "len(x_train), len(x_test)"
   ]
  },
  {
   "cell_type": "code",
   "execution_count": 7,
   "metadata": {},
   "outputs": [],
   "source": [
    "train_df, test_df = files.loc[x_train], files.loc[x_test]\n",
    "train_df.to_csv(path.join(gitw_path, \"train_dataset.csv\"), index=False)\n",
    "test_df.to_csv(path.join(gitw_path, \"test_dataset.csv\"), index=False)"
   ]
  },
  {
   "cell_type": "code",
   "execution_count": 8,
   "metadata": {},
   "outputs": [],
   "source": [
    "class GITWDataset(keras.utils.Sequence):\n",
    "    \n",
    "    def __init__(self, data_path, df, classes, batch_size=32):\n",
    "        self.X = [path.join(data_path, file) for file in df[\"file\"].values]\n",
    "        self.Y = keras.utils.to_categorical(df[\"label\"].values)\n",
    "        self.batch_size = batch_size\n",
    "        self.path = data_path\n",
    "        self.df = df\n",
    "        self.classes = classes\n",
    "        \n",
    "    def __len__(self):\n",
    "        return math.ceil(len(self.df) / self.batch_size)\n",
    "    \n",
    "    def __getitem__(self, idx):\n",
    "        files_x = self.X[idx*self.batch_size:(idx+1)*self.batch_size]\n",
    "        batch_y = self.Y[idx*self.batch_size:(idx+1)*self.batch_size]\n",
    "        batch_x = []\n",
    "        for file in files_x:\n",
    "            frame = np.array(Image.open(os.path.join(file)).convert(\"RGB\").resize((224,224), Image.BICUBIC).getdata())\n",
    "            batch_x.append(frame.reshape(224, 224, 3))\n",
    "        return np.stack(batch_x), batch_y"
   ]
  },
  {
   "cell_type": "code",
   "execution_count": 9,
   "metadata": {},
   "outputs": [],
   "source": [
    "trainset = GITWDataset(gitw_path, train_df, classes, batch_size=batch_size)\n",
    "testset = GITWDataset(gitw_path, test_df, classes, batch_size=batch_size)"
   ]
  },
  {
   "cell_type": "code",
   "execution_count": 10,
   "metadata": {},
   "outputs": [],
   "source": [
    "resnet_module = ResNet50(include_top=False, input_shape=(224, 224, 3), )\n",
    "resnet = models.Sequential([\n",
    "    resnet_module,\n",
    "    layers.Flatten(),\n",
    "    layers.Dense(len(classes), activation=\"softmax\")\n",
    "])"
   ]
  },
  {
   "cell_type": "code",
   "execution_count": 11,
   "metadata": {},
   "outputs": [
    {
     "name": "stdout",
     "output_type": "stream",
     "text": [
      "Model: \"sequential\"\n",
      "_________________________________________________________________\n",
      "Layer (type)                 Output Shape              Param #   \n",
      "=================================================================\n",
      "resnet50 (Model)             (None, 7, 7, 2048)        23587712  \n",
      "_________________________________________________________________\n",
      "flatten (Flatten)            (None, 100352)            0         \n",
      "_________________________________________________________________\n",
      "dense (Dense)                (None, 17)                1706001   \n",
      "=================================================================\n",
      "Total params: 25,293,713\n",
      "Trainable params: 25,240,593\n",
      "Non-trainable params: 53,120\n",
      "_________________________________________________________________\n"
     ]
    }
   ],
   "source": [
    "resnet.summary()"
   ]
  },
  {
   "cell_type": "code",
   "execution_count": 12,
   "metadata": {},
   "outputs": [
    {
     "name": "stdout",
     "output_type": "stream",
     "text": [
      "Epoch 1/20\n",
      "279/279 [==============================] - 297s 1s/step - loss: 3.6505 - accuracy: 0.3876 - val_loss: 13.3320 - val_accuracy: 0.0980\n",
      "Epoch 2/20\n",
      "279/279 [==============================] - 292s 1s/step - loss: 2.2665 - accuracy: 0.6129 - val_loss: 2.4957 - val_accuracy: 0.5407\n",
      "Epoch 3/20\n",
      "279/279 [==============================] - 300s 1s/step - loss: 2.0806 - accuracy: 0.6457 - val_loss: 14.3799 - val_accuracy: 0.0980\n",
      "Epoch 4/20\n",
      "279/279 [==============================] - 289s 1s/step - loss: 2.1587 - accuracy: 0.6284 - val_loss: 1.5320 - val_accuracy: 0.6056\n",
      "Epoch 5/20\n",
      "279/279 [==============================] - 290s 1s/step - loss: 2.3707 - accuracy: 0.5904 - val_loss: 1.1454 - val_accuracy: 0.6858\n",
      "Epoch 6/20\n",
      "279/279 [==============================] - 293s 1s/step - loss: 1.8323 - accuracy: 0.7261 - val_loss: 3.4437 - val_accuracy: 0.6272\n",
      "Epoch 7/20\n",
      "279/279 [==============================] - 288s 1s/step - loss: 1.5407 - accuracy: 0.7965 - val_loss: 1.8656 - val_accuracy: 0.7328\n",
      "Epoch 8/20\n",
      "279/279 [==============================] - 288s 1s/step - loss: 1.4728 - accuracy: 0.8275 - val_loss: 1.5900 - val_accuracy: 0.7494\n",
      "Epoch 9/20\n",
      "279/279 [==============================] - 283s 1s/step - loss: 1.4559 - accuracy: 0.8234 - val_loss: 1.4482 - val_accuracy: 0.7659\n",
      "Epoch 10/20\n",
      "279/279 [==============================] - 275s 985ms/step - loss: 1.2747 - accuracy: 0.8731 - val_loss: 0.9969 - val_accuracy: 0.7710\n",
      "Epoch 11/20\n",
      "279/279 [==============================] - 285s 1s/step - loss: 1.3348 - accuracy: 0.8582 - val_loss: 5.1548 - val_accuracy: 0.5000\n",
      "Epoch 12/20\n",
      "279/279 [==============================] - 290s 1s/step - loss: 1.2625 - accuracy: 0.8367 - val_loss: 1.1044 - val_accuracy: 0.7672\n",
      "Epoch 13/20\n",
      "279/279 [==============================] - 290s 1s/step - loss: 1.3633 - accuracy: 0.8358 - val_loss: 3.8898 - val_accuracy: 0.5585\n",
      "Epoch 14/20\n",
      "279/279 [==============================] - 284s 1s/step - loss: 1.8852 - accuracy: 0.7223 - val_loss: 12.4724 - val_accuracy: 0.1323\n",
      "Epoch 15/20\n",
      "279/279 [==============================] - 279s 1s/step - loss: 1.7596 - accuracy: 0.7565 - val_loss: 13.5255 - val_accuracy: 0.1056\n",
      "Epoch 16/20\n",
      "279/279 [==============================] - 281s 1s/step - loss: 1.5007 - accuracy: 0.8009 - val_loss: 12.4876 - val_accuracy: 0.1260\n",
      "Epoch 17/20\n",
      "279/279 [==============================] - 281s 1s/step - loss: 1.5551 - accuracy: 0.7704 - val_loss: 1.6320 - val_accuracy: 0.7455\n",
      "Epoch 18/20\n",
      "279/279 [==============================] - 279s 1s/step - loss: 1.4114 - accuracy: 0.8288 - val_loss: 2.5329 - val_accuracy: 0.6883\n",
      "Epoch 19/20\n",
      "279/279 [==============================] - 282s 1s/step - loss: 1.1854 - accuracy: 0.8607 - val_loss: 1.8226 - val_accuracy: 0.7303\n",
      "Epoch 20/20\n",
      "279/279 [==============================] - 274s 982ms/step - loss: 1.2906 - accuracy: 0.8625 - val_loss: 0.8820 - val_accuracy: 0.8104\n"
     ]
    }
   ],
   "source": [
    "tensorboard = TensorBoard(log_dir=path.join(\".\", \"logs\", \"resnet\"), update_freq=50)\n",
    "reducer = ReduceLROnPlateau(monitor='val_accuracy')\n",
    "\n",
    "optimizer = optimizers.Adam(lr=1e-3, decay=1e-8)\n",
    "\n",
    "resnet.compile(loss=\"categorical_crossentropy\", optimizer=optimizer, metrics=[\"accuracy\"])\n",
    "resnet_history = resnet.fit_generator(trainset, \n",
    "                    epochs=20,\n",
    "                    validation_data=testset,\n",
    "                    callbacks=[tensorboard, reducer])"
   ]
  },
  {
   "cell_type": "code",
   "execution_count": null,
   "metadata": {},
   "outputs": [],
   "source": []
  }
 ],
 "metadata": {
  "kernelspec": {
   "display_name": "Python 3",
   "language": "python",
   "name": "python3"
  },
  "language_info": {
   "codemirror_mode": {
    "name": "ipython",
    "version": 3
   },
   "file_extension": ".py",
   "mimetype": "text/x-python",
   "name": "python",
   "nbconvert_exporter": "python",
   "pygments_lexer": "ipython3",
   "version": "3.7.4"
  }
 },
 "nbformat": 4,
 "nbformat_minor": 4
}
